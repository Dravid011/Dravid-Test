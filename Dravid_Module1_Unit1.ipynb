{
 "cells": [
  {
   "cell_type": "code",
   "execution_count": null,
   "id": "46e2e1f5",
   "metadata": {},
   "outputs": [],
   "source": [
    "a=1\n",
    "b=1\n",
    "c=1\n",
    "a+b+c"
   ]
  },
  {
   "cell_type": "code",
   "execution_count": null,
   "id": "5d007791",
   "metadata": {},
   "outputs": [],
   "source": [
    "a 1=1"
   ]
  },
  {
   "cell_type": "code",
   "execution_count": null,
   "id": "473b17fb",
   "metadata": {},
   "outputs": [],
   "source": [
    "a_1=1"
   ]
  },
  {
   "cell_type": "code",
   "execution_count": null,
   "id": "536eafca",
   "metadata": {},
   "outputs": [],
   "source": [
    "_a1=1"
   ]
  },
  {
   "cell_type": "code",
   "execution_count": null,
   "id": "63b45bbc",
   "metadata": {},
   "outputs": [],
   "source": [
    "__a=1"
   ]
  },
  {
   "cell_type": "code",
   "execution_count": null,
   "id": "ffa7e4c6",
   "metadata": {},
   "outputs": [],
   "source": [
    "a@gmail.com=1"
   ]
  },
  {
   "cell_type": "code",
   "execution_count": null,
   "id": "5ccbb708",
   "metadata": {},
   "outputs": [],
   "source": [
    "if=2"
   ]
  },
  {
   "cell_type": "code",
   "execution_count": null,
   "id": "a7ae3d6b",
   "metadata": {},
   "outputs": [],
   "source": [
    "type=1"
   ]
  },
  {
   "cell_type": "code",
   "execution_count": null,
   "id": "30687d2b",
   "metadata": {},
   "outputs": [],
   "source": [
    "a"
   ]
  },
  {
   "cell_type": "code",
   "execution_count": null,
   "id": "2fa100d7",
   "metadata": {},
   "outputs": [],
   "source": [
    "a=1\n",
    "type(a)"
   ]
  },
  {
   "cell_type": "code",
   "execution_count": null,
   "id": "da039ff1",
   "metadata": {},
   "outputs": [],
   "source": [
    "count=100\n",
    "kilometers=1000.0\n",
    "name=\"Rahul\""
   ]
  },
  {
   "cell_type": "code",
   "execution_count": null,
   "id": "815b257c",
   "metadata": {},
   "outputs": [],
   "source": [
    "print(count,kilometers,name)"
   ]
  },
  {
   "cell_type": "code",
   "execution_count": null,
   "id": "0e44784f",
   "metadata": {},
   "outputs": [],
   "source": [
    "a,b,c=1,2,\"Diwakar\"\n",
    "print(a,b,c)"
   ]
  },
  {
   "cell_type": "code",
   "execution_count": null,
   "id": "5c53aa40",
   "metadata": {},
   "outputs": [],
   "source": [
    "a=b=c=1\n",
    "print(a,b,c)"
   ]
  },
  {
   "cell_type": "code",
   "execution_count": null,
   "id": "43d3e57d",
   "metadata": {},
   "outputs": [],
   "source": [
    "print(id(a))\n",
    "print(id(b))\n",
    "print(id(c))"
   ]
  },
  {
   "cell_type": "code",
   "execution_count": null,
   "id": "9af6a52f",
   "metadata": {},
   "outputs": [],
   "source": [
    "a=1\n",
    "b=1\n",
    "c=1\n",
    "print(id(a))\n",
    "print(id(b))\n",
    "print(id(c))"
   ]
  },
  {
   "cell_type": "code",
   "execution_count": null,
   "id": "fbd59cf5",
   "metadata": {},
   "outputs": [],
   "source": [
    "a"
   ]
  },
  {
   "cell_type": "code",
   "execution_count": null,
   "id": "4a0c7a24",
   "metadata": {},
   "outputs": [],
   "source": [
    "del a"
   ]
  },
  {
   "cell_type": "code",
   "execution_count": null,
   "id": "00bdcc11",
   "metadata": {
    "scrolled": true
   },
   "outputs": [],
   "source": [
    "a"
   ]
  },
  {
   "cell_type": "code",
   "execution_count": null,
   "id": "190de5be",
   "metadata": {},
   "outputs": [],
   "source": [
    "b=3.13j\n",
    "type(b)"
   ]
  },
  {
   "cell_type": "code",
   "execution_count": null,
   "id": "d2a6a872",
   "metadata": {},
   "outputs": [],
   "source": [
    "str1=\"python is our language\"\n",
    "print(str1)"
   ]
  },
  {
   "cell_type": "code",
   "execution_count": null,
   "id": "1a9d5177",
   "metadata": {},
   "outputs": [],
   "source": [
    "a=1\n",
    "a*2"
   ]
  },
  {
   "cell_type": "code",
   "execution_count": null,
   "id": "e4ab6d4a",
   "metadata": {},
   "outputs": [],
   "source": [
    "str1=\"Python is a programming language\"\n",
    "print(str1*2)"
   ]
  },
  {
   "cell_type": "code",
   "execution_count": null,
   "id": "2b263eb9",
   "metadata": {},
   "outputs": [],
   "source": [
    "str2=\"hi\"\n",
    "print(str1+str2)"
   ]
  },
  {
   "cell_type": "code",
   "execution_count": null,
   "id": "67918766",
   "metadata": {},
   "outputs": [],
   "source": [
    "str2=\"hi\"\n",
    "print(str1*str2)"
   ]
  },
  {
   "cell_type": "code",
   "execution_count": null,
   "id": "461dd702",
   "metadata": {},
   "outputs": [],
   "source": [
    "a=2\n",
    "id(a)"
   ]
  },
  {
   "cell_type": "code",
   "execution_count": null,
   "id": "425d2039",
   "metadata": {},
   "outputs": [],
   "source": [
    "str1=\"Python is a Programming Language\"\n",
    "print(str1)"
   ]
  },
  {
   "cell_type": "code",
   "execution_count": null,
   "id": "14afd9d4",
   "metadata": {},
   "outputs": [],
   "source": [
    "print(str1[0])"
   ]
  },
  {
   "cell_type": "code",
   "execution_count": null,
   "id": "3931197b",
   "metadata": {},
   "outputs": [],
   "source": [
    "print(str1[2:10])"
   ]
  },
  {
   "cell_type": "code",
   "execution_count": null,
   "id": "8d26d7e9",
   "metadata": {},
   "outputs": [],
   "source": [
    "print(str1[6:18])"
   ]
  },
  {
   "cell_type": "code",
   "execution_count": null,
   "id": "ddb0e0b4",
   "metadata": {},
   "outputs": [],
   "source": [
    "print(str1[12:23])"
   ]
  },
  {
   "cell_type": "code",
   "execution_count": null,
   "id": "a874bf4c",
   "metadata": {},
   "outputs": [],
   "source": [
    "str1.split()"
   ]
  },
  {
   "cell_type": "code",
   "execution_count": null,
   "id": "2e262e0d",
   "metadata": {},
   "outputs": [],
   "source": [
    "str1=\"{1} {0} {2}\".format(\"I\",\"am\",\"Good\")\n",
    "str1"
   ]
  },
  {
   "cell_type": "code",
   "execution_count": null,
   "id": "67ebbdbe",
   "metadata": {},
   "outputs": [],
   "source": [
    "str1=\"{a} {k} {l}\".format(a='PythoN',k='PRgrammiNG',l='Language')\n",
    "print(str1)"
   ]
  },
  {
   "cell_type": "code",
   "execution_count": null,
   "id": "24676a07",
   "metadata": {},
   "outputs": [],
   "source": [
    "str1.capitalize()"
   ]
  },
  {
   "cell_type": "code",
   "execution_count": null,
   "id": "e79a638e",
   "metadata": {},
   "outputs": [],
   "source": [
    "L=[1,2,3,\"abes\",12.5]\n",
    "L"
   ]
  },
  {
   "cell_type": "code",
   "execution_count": null,
   "id": "e36c9cdb",
   "metadata": {},
   "outputs": [],
   "source": [
    "L[0:3]"
   ]
  },
  {
   "cell_type": "code",
   "execution_count": null,
   "id": "637b6e6f",
   "metadata": {},
   "outputs": [],
   "source": [
    "L[3][2]"
   ]
  },
  {
   "cell_type": "markdown",
   "id": "98880129",
   "metadata": {},
   "source": [
    "# List"
   ]
  },
  {
   "cell_type": "code",
   "execution_count": null,
   "id": "ce1b9221",
   "metadata": {},
   "outputs": [],
   "source": [
    "ks=[1,2,3]\n",
    "ks+ks"
   ]
  },
  {
   "cell_type": "code",
   "execution_count": null,
   "id": "3fb0d7d5",
   "metadata": {},
   "outputs": [],
   "source": [
    "ls=[7,8,9]\n",
    "ks+ls"
   ]
  },
  {
   "cell_type": "code",
   "execution_count": null,
   "id": "c79faf7c",
   "metadata": {},
   "outputs": [],
   "source": [
    "ls*4"
   ]
  },
  {
   "cell_type": "code",
   "execution_count": null,
   "id": "42ca3fac",
   "metadata": {},
   "outputs": [],
   "source": [
    "a=\" Dravid \"\n",
    "b=\" Thakur\"\n",
    "print(a+b)"
   ]
  },
  {
   "cell_type": "code",
   "execution_count": null,
   "id": "db0c7ced",
   "metadata": {},
   "outputs": [],
   "source": [
    "L"
   ]
  },
  {
   "cell_type": "code",
   "execution_count": null,
   "id": "68b7b1eb",
   "metadata": {},
   "outputs": [],
   "source": [
    "L[0]=66\n",
    "L"
   ]
  },
  {
   "cell_type": "code",
   "execution_count": null,
   "id": "6db6a463",
   "metadata": {},
   "outputs": [],
   "source": [
    "id(L)"
   ]
  },
  {
   "cell_type": "code",
   "execution_count": null,
   "id": "3dd0e2c2",
   "metadata": {},
   "outputs": [],
   "source": [
    "L[0]=10\n",
    "id(L)"
   ]
  },
  {
   "cell_type": "code",
   "execution_count": null,
   "id": "b725ad9d",
   "metadata": {},
   "outputs": [],
   "source": [
    "L2=\"Diwakar\"\n",
    "print(id(L2))"
   ]
  },
  {
   "cell_type": "code",
   "execution_count": null,
   "id": "cb8d1b77",
   "metadata": {},
   "outputs": [],
   "source": [
    "L2[0]=\"G\""
   ]
  },
  {
   "cell_type": "code",
   "execution_count": null,
   "id": "af1d8544",
   "metadata": {},
   "outputs": [],
   "source": [
    "L2=\"G\"+L2[1:]\n",
    "L2"
   ]
  },
  {
   "cell_type": "code",
   "execution_count": null,
   "id": "22756878",
   "metadata": {},
   "outputs": [],
   "source": [
    "id(L2)"
   ]
  },
  {
   "cell_type": "code",
   "execution_count": null,
   "id": "1206e443",
   "metadata": {},
   "outputs": [],
   "source": [
    "a=input(\"Enter your Name\")"
   ]
  },
  {
   "cell_type": "code",
   "execution_count": null,
   "id": "9d6ee9d8",
   "metadata": {},
   "outputs": [],
   "source": [
    "type(a)"
   ]
  },
  {
   "cell_type": "code",
   "execution_count": null,
   "id": "b35554a0",
   "metadata": {},
   "outputs": [],
   "source": [
    "a=input(\"Enter your Age\")"
   ]
  },
  {
   "cell_type": "code",
   "execution_count": null,
   "id": "5f1558c7",
   "metadata": {},
   "outputs": [],
   "source": [
    "type(a)"
   ]
  },
  {
   "cell_type": "code",
   "execution_count": null,
   "id": "272308fc",
   "metadata": {},
   "outputs": [],
   "source": [
    "a=int(input(\"Enter your age\"))\n",
    "print(a*2)"
   ]
  },
  {
   "cell_type": "code",
   "execution_count": null,
   "id": "2977c44b",
   "metadata": {},
   "outputs": [],
   "source": [
    "a=input(\"Enter your Sequence\")"
   ]
  },
  {
   "cell_type": "code",
   "execution_count": null,
   "id": "e35c8288",
   "metadata": {},
   "outputs": [],
   "source": [
    "a"
   ]
  },
  {
   "cell_type": "code",
   "execution_count": null,
   "id": "7ed8d0cf",
   "metadata": {},
   "outputs": [],
   "source": [
    "type(a)"
   ]
  },
  {
   "cell_type": "code",
   "execution_count": null,
   "id": "7fed46fd",
   "metadata": {},
   "outputs": [],
   "source": [
    "a.split( )"
   ]
  },
  {
   "cell_type": "markdown",
   "id": "f9b5889f",
   "metadata": {},
   "source": [
    "# Tuple"
   ]
  },
  {
   "cell_type": "code",
   "execution_count": null,
   "id": "af6f1433",
   "metadata": {},
   "outputs": [],
   "source": [
    "tuple1=('abcd',547,'john',2.23,70.2)\n",
    "tuple2=('Ram',321)"
   ]
  },
  {
   "cell_type": "code",
   "execution_count": null,
   "id": "938ff174",
   "metadata": {},
   "outputs": [],
   "source": [
    "print(tuple1)"
   ]
  },
  {
   "cell_type": "code",
   "execution_count": null,
   "id": "08042a48",
   "metadata": {},
   "outputs": [],
   "source": [
    "tuple1[0]"
   ]
  },
  {
   "cell_type": "code",
   "execution_count": null,
   "id": "8bb1c855",
   "metadata": {},
   "outputs": [],
   "source": [
    "tuple1[0]=\"Hi\""
   ]
  },
  {
   "cell_type": "code",
   "execution_count": null,
   "id": "bfad9051",
   "metadata": {},
   "outputs": [],
   "source": [
    "tuple1*4"
   ]
  },
  {
   "cell_type": "markdown",
   "id": "082ca72e",
   "metadata": {},
   "source": [
    "# Dictionary {keys:values}"
   ]
  },
  {
   "cell_type": "code",
   "execution_count": null,
   "id": "b5c248d3",
   "metadata": {},
   "outputs": [],
   "source": [
    "dict1={}\n",
    "type(dict1)"
   ]
  },
  {
   "cell_type": "code",
   "execution_count": null,
   "id": "7f87273a",
   "metadata": {},
   "outputs": [],
   "source": [
    "dict1['one'] = \"This is Python\"\n",
    "dict1[2]     = \"This is Java\""
   ]
  },
  {
   "cell_type": "code",
   "execution_count": null,
   "id": "ca5274cf",
   "metadata": {},
   "outputs": [],
   "source": [
    "dict1"
   ]
  },
  {
   "cell_type": "code",
   "execution_count": null,
   "id": "db2e1180",
   "metadata": {},
   "outputs": [],
   "source": [
    "dict1[2]"
   ]
  },
  {
   "cell_type": "code",
   "execution_count": null,
   "id": "6b1970ba",
   "metadata": {},
   "outputs": [],
   "source": [
    "dict1['one']"
   ]
  },
  {
   "cell_type": "code",
   "execution_count": null,
   "id": "4b480b82",
   "metadata": {},
   "outputs": [],
   "source": [
    "dict1[3]"
   ]
  },
  {
   "cell_type": "code",
   "execution_count": null,
   "id": "de61daa1",
   "metadata": {},
   "outputs": [],
   "source": [
    "dict2={'name':'Rohit','id':1234,'dept':'Technical'}"
   ]
  },
  {
   "cell_type": "code",
   "execution_count": null,
   "id": "c0a6cd11",
   "metadata": {},
   "outputs": [],
   "source": [
    "dict2['name']"
   ]
  },
  {
   "cell_type": "code",
   "execution_count": null,
   "id": "4223c975",
   "metadata": {},
   "outputs": [],
   "source": [
    "print(dict2.keys())"
   ]
  },
  {
   "cell_type": "code",
   "execution_count": null,
   "id": "1af762f2",
   "metadata": {},
   "outputs": [],
   "source": [
    "print(dict2.values())"
   ]
  },
  {
   "cell_type": "markdown",
   "id": "6db5b74c",
   "metadata": {},
   "source": [
    "# Loops\n"
   ]
  },
  {
   "cell_type": "code",
   "execution_count": null,
   "id": "3c32638f",
   "metadata": {},
   "outputs": [],
   "source": [
    "count=0\n",
    "while(count<10):\n",
    "    print(count)\n",
    "    count=count+1"
   ]
  },
  {
   "cell_type": "code",
   "execution_count": null,
   "id": "948f021b",
   "metadata": {},
   "outputs": [],
   "source": [
    "count=0\n",
    "while (count<5):\n",
    "    print(count,\"is less than 5\")\n",
    "    count = count+1\n",
    "else:\n",
    "    print(count,\"is not less than 5\")"
   ]
  },
  {
   "cell_type": "code",
   "execution_count": null,
   "id": "edcb0505",
   "metadata": {},
   "outputs": [],
   "source": [
    "a=[1,2,34,56,78]\n",
    "for i in a:\n",
    "    print(i)"
   ]
  },
  {
   "cell_type": "code",
   "execution_count": null,
   "id": "241fc638",
   "metadata": {},
   "outputs": [],
   "source": [
    "a=input(\"Enter your Name\")"
   ]
  },
  {
   "cell_type": "code",
   "execution_count": null,
   "id": "84d887c6",
   "metadata": {},
   "outputs": [],
   "source": [
    "a[0]"
   ]
  },
  {
   "cell_type": "code",
   "execution_count": null,
   "id": "eae2c818",
   "metadata": {},
   "outputs": [],
   "source": [
    "total=0\n",
    "for i in a:\n",
    "    print(i)\n",
    "    total=total+1\n",
    "    \n",
    "print(total)"
   ]
  },
  {
   "cell_type": "markdown",
   "id": "69150c1e",
   "metadata": {},
   "source": [
    "# Numpy"
   ]
  },
  {
   "cell_type": "code",
   "execution_count": null,
   "id": "faed9656",
   "metadata": {},
   "outputs": [],
   "source": [
    "a=[2,3]"
   ]
  },
  {
   "cell_type": "code",
   "execution_count": null,
   "id": "c83cc45f",
   "metadata": {},
   "outputs": [],
   "source": [
    "a*2"
   ]
  },
  {
   "cell_type": "code",
   "execution_count": null,
   "id": "c9e224bb",
   "metadata": {},
   "outputs": [],
   "source": [
    "import numpy"
   ]
  },
  {
   "cell_type": "code",
   "execution_count": null,
   "id": "05a4dc6c",
   "metadata": {},
   "outputs": [],
   "source": [
    "import numpy as np"
   ]
  },
  {
   "cell_type": "code",
   "execution_count": null,
   "id": "b14a6f03",
   "metadata": {},
   "outputs": [],
   "source": [
    "!pip install numpy"
   ]
  },
  {
   "cell_type": "code",
   "execution_count": null,
   "id": "788d0a79",
   "metadata": {},
   "outputs": [],
   "source": [
    "a_n=np.array(a)"
   ]
  },
  {
   "cell_type": "code",
   "execution_count": null,
   "id": "982cfbff",
   "metadata": {},
   "outputs": [],
   "source": [
    "a_n"
   ]
  },
  {
   "cell_type": "code",
   "execution_count": null,
   "id": "99abe323",
   "metadata": {},
   "outputs": [],
   "source": [
    "a_n*2"
   ]
  },
  {
   "cell_type": "code",
   "execution_count": null,
   "id": "e65659e6",
   "metadata": {},
   "outputs": [],
   "source": [
    "marks=[66,88,77,11,33,22,44,55,99,7]\n",
    "marks=np.array(marks)"
   ]
  },
  {
   "cell_type": "code",
   "execution_count": null,
   "id": "2948bfbe",
   "metadata": {},
   "outputs": [],
   "source": [
    "np.mean(marks)"
   ]
  },
  {
   "cell_type": "code",
   "execution_count": null,
   "id": "e604871b",
   "metadata": {},
   "outputs": [],
   "source": [
    "np.amin(marks)"
   ]
  },
  {
   "cell_type": "code",
   "execution_count": null,
   "id": "15368ed3",
   "metadata": {},
   "outputs": [],
   "source": [
    "np.amax(marks)"
   ]
  },
  {
   "cell_type": "code",
   "execution_count": null,
   "id": "b1084462",
   "metadata": {},
   "outputs": [],
   "source": [
    "np.median(marks)"
   ]
  },
  {
   "cell_type": "code",
   "execution_count": null,
   "id": "c3a5bd30",
   "metadata": {},
   "outputs": [],
   "source": [
    "np.ptp(marks)"
   ]
  },
  {
   "cell_type": "code",
   "execution_count": null,
   "id": "0127f2e0",
   "metadata": {},
   "outputs": [],
   "source": [
    "np.std(marks)"
   ]
  },
  {
   "cell_type": "code",
   "execution_count": null,
   "id": "30d738d5",
   "metadata": {},
   "outputs": [],
   "source": [
    "np.var(marks)"
   ]
  },
  {
   "cell_type": "code",
   "execution_count": null,
   "id": "b8ee6c1b",
   "metadata": {},
   "outputs": [],
   "source": [
    "x=[34,45,67,78]\n",
    "x_n=np.array(x)\n",
    "print(np.std(x_n))"
   ]
  },
  {
   "cell_type": "code",
   "execution_count": null,
   "id": "3ee453a0",
   "metadata": {},
   "outputs": [],
   "source": [
    "ss=np.mean((x_n-np.mean(x_n))**2)"
   ]
  },
  {
   "cell_type": "code",
   "execution_count": null,
   "id": "99445e38",
   "metadata": {},
   "outputs": [],
   "source": [
    "ss"
   ]
  },
  {
   "cell_type": "code",
   "execution_count": null,
   "id": "f6d6d1c5",
   "metadata": {},
   "outputs": [],
   "source": [
    "np.sqrt(ss)"
   ]
  },
  {
   "cell_type": "markdown",
   "id": "68082cff",
   "metadata": {},
   "source": [
    "# Random"
   ]
  },
  {
   "cell_type": "code",
   "execution_count": 1,
   "id": "5dc24f95",
   "metadata": {},
   "outputs": [],
   "source": [
    "from numpy import random"
   ]
  },
  {
   "cell_type": "code",
   "execution_count": 2,
   "id": "738b7fd3",
   "metadata": {},
   "outputs": [
    {
     "data": {
      "text/plain": [
       "0.6424430315064359"
      ]
     },
     "execution_count": 2,
     "metadata": {},
     "output_type": "execute_result"
    }
   ],
   "source": [
    "random.rand()"
   ]
  },
  {
   "cell_type": "code",
   "execution_count": 3,
   "id": "80a15233",
   "metadata": {},
   "outputs": [
    {
     "name": "stdout",
     "output_type": "stream",
     "text": [
      "0.15416284237967237\n",
      "0.7400496965154048\n",
      "0.26331501518513467\n",
      "0.5337393933802977\n",
      "0.014574962485419674\n",
      "0.918747008099885\n",
      "0.9007148541170122\n",
      "0.03342142762634459\n",
      "0.9569493362751168\n",
      "0.13720932135607644\n"
     ]
    }
   ],
   "source": [
    "random.seed(12)\n",
    "for i in range(10):\n",
    "    print(random.rand())"
   ]
  },
  {
   "cell_type": "code",
   "execution_count": 5,
   "id": "65710e6f",
   "metadata": {},
   "outputs": [
    {
     "name": "stdout",
     "output_type": "stream",
     "text": [
      "-5.875\n",
      "15.6875\n",
      "-38.21875\n",
      "96.546875\n",
      "-240.3671875\n",
      "601.91796875\n",
      "-1503.794921875\n",
      "3760.4873046875\n",
      "-9400.21826171875\n",
      "23501.545654296875\n"
     ]
    }
   ],
   "source": [
    "x=2.75\n",
    "for i in range(10):\n",
    "    x=1+(1-3.5)*x\n",
    "    print(x)"
   ]
  },
  {
   "cell_type": "markdown",
   "id": "259d8c34",
   "metadata": {},
   "source": [
    "# Matrix"
   ]
  },
  {
   "cell_type": "code",
   "execution_count": 7,
   "id": "b1b95435",
   "metadata": {},
   "outputs": [],
   "source": [
    "a=[ [3,4] , [5,6] ]"
   ]
  },
  {
   "cell_type": "code",
   "execution_count": 8,
   "id": "d7012ec3",
   "metadata": {},
   "outputs": [
    {
     "data": {
      "text/plain": [
       "[[3, 4], [5, 6]]"
      ]
     },
     "execution_count": 8,
     "metadata": {},
     "output_type": "execute_result"
    }
   ],
   "source": [
    "a"
   ]
  },
  {
   "cell_type": "code",
   "execution_count": 13,
   "id": "bfcca20d",
   "metadata": {},
   "outputs": [
    {
     "data": {
      "text/plain": [
       "3"
      ]
     },
     "execution_count": 13,
     "metadata": {},
     "output_type": "execute_result"
    }
   ],
   "source": [
    "a[0][0]"
   ]
  },
  {
   "cell_type": "code",
   "execution_count": 14,
   "id": "1e745467",
   "metadata": {},
   "outputs": [
    {
     "data": {
      "text/plain": [
       "4"
      ]
     },
     "execution_count": 14,
     "metadata": {},
     "output_type": "execute_result"
    }
   ],
   "source": [
    "a[0][1]"
   ]
  },
  {
   "cell_type": "code",
   "execution_count": 15,
   "id": "6b9d2207",
   "metadata": {},
   "outputs": [
    {
     "data": {
      "text/plain": [
       "5"
      ]
     },
     "execution_count": 15,
     "metadata": {},
     "output_type": "execute_result"
    }
   ],
   "source": [
    "a[1][0]"
   ]
  },
  {
   "cell_type": "code",
   "execution_count": 16,
   "id": "24a10581",
   "metadata": {},
   "outputs": [
    {
     "data": {
      "text/plain": [
       "6"
      ]
     },
     "execution_count": 16,
     "metadata": {},
     "output_type": "execute_result"
    }
   ],
   "source": [
    "a[1][1]"
   ]
  },
  {
   "cell_type": "code",
   "execution_count": 17,
   "id": "7ed646bb",
   "metadata": {},
   "outputs": [],
   "source": [
    "import numpy as np\n",
    "a_n=np.array(a)"
   ]
  },
  {
   "cell_type": "code",
   "execution_count": 18,
   "id": "f311e7e6",
   "metadata": {},
   "outputs": [
    {
     "data": {
      "text/plain": [
       "array([[3, 4],\n",
       "       [5, 6]])"
      ]
     },
     "execution_count": 18,
     "metadata": {},
     "output_type": "execute_result"
    }
   ],
   "source": [
    "a_n"
   ]
  },
  {
   "cell_type": "code",
   "execution_count": 20,
   "id": "dd09778d",
   "metadata": {},
   "outputs": [
    {
     "data": {
      "text/plain": [
       "array([3, 4])"
      ]
     },
     "execution_count": 20,
     "metadata": {},
     "output_type": "execute_result"
    }
   ],
   "source": [
    "a_n[0,:]"
   ]
  },
  {
   "cell_type": "code",
   "execution_count": 21,
   "id": "768381eb",
   "metadata": {},
   "outputs": [
    {
     "data": {
      "text/plain": [
       "array([5, 6])"
      ]
     },
     "execution_count": 21,
     "metadata": {},
     "output_type": "execute_result"
    }
   ],
   "source": [
    "a_n[1,:]"
   ]
  },
  {
   "cell_type": "code",
   "execution_count": 23,
   "id": "2d9b8130",
   "metadata": {},
   "outputs": [
    {
     "data": {
      "text/plain": [
       "dtype('int32')"
      ]
     },
     "execution_count": 23,
     "metadata": {},
     "output_type": "execute_result"
    }
   ],
   "source": [
    "a_n.dtype"
   ]
  },
  {
   "cell_type": "code",
   "execution_count": 27,
   "id": "67d74455",
   "metadata": {},
   "outputs": [
    {
     "data": {
      "text/plain": [
       "(8, 4)"
      ]
     },
     "execution_count": 27,
     "metadata": {},
     "output_type": "execute_result"
    }
   ],
   "source": [
    "a_n.strides"
   ]
  },
  {
   "cell_type": "code",
   "execution_count": 25,
   "id": "e29ac7f3",
   "metadata": {},
   "outputs": [
    {
     "data": {
      "text/plain": [
       "array([[4, 5],\n",
       "       [6, 7]])"
      ]
     },
     "execution_count": 25,
     "metadata": {},
     "output_type": "execute_result"
    }
   ],
   "source": [
    "a_n+1"
   ]
  },
  {
   "cell_type": "code",
   "execution_count": 26,
   "id": "efd126c9",
   "metadata": {},
   "outputs": [
    {
     "data": {
      "text/plain": [
       "(2, 2)"
      ]
     },
     "execution_count": 26,
     "metadata": {},
     "output_type": "execute_result"
    }
   ],
   "source": [
    "a_n.shape"
   ]
  },
  {
   "cell_type": "code",
   "execution_count": 28,
   "id": "3aa9c416",
   "metadata": {},
   "outputs": [],
   "source": [
    "b_n=np.array([1])"
   ]
  },
  {
   "cell_type": "code",
   "execution_count": 29,
   "id": "0efa0da8",
   "metadata": {},
   "outputs": [
    {
     "data": {
      "text/plain": [
       "array([1])"
      ]
     },
     "execution_count": 29,
     "metadata": {},
     "output_type": "execute_result"
    }
   ],
   "source": [
    "b_n"
   ]
  },
  {
   "cell_type": "code",
   "execution_count": 30,
   "id": "5329e06b",
   "metadata": {},
   "outputs": [
    {
     "data": {
      "text/plain": [
       "(1,)"
      ]
     },
     "execution_count": 30,
     "metadata": {},
     "output_type": "execute_result"
    }
   ],
   "source": [
    "b_n.shape"
   ]
  },
  {
   "cell_type": "markdown",
   "id": "911d85f1",
   "metadata": {},
   "source": [
    "# Case Study"
   ]
  },
  {
   "cell_type": "code",
   "execution_count": 31,
   "id": "2a8ffe9f",
   "metadata": {},
   "outputs": [],
   "source": [
    "import numpy as np"
   ]
  },
  {
   "cell_type": "code",
   "execution_count": 34,
   "id": "a618e40a",
   "metadata": {},
   "outputs": [],
   "source": [
    "a=np.loadtxt(\"https://raw.githubusercontent.com/goradbj/MachineLearning/main/cric.tsv\",skiprows=1)"
   ]
  },
  {
   "cell_type": "code",
   "execution_count": 35,
   "id": "6b3f75fe",
   "metadata": {},
   "outputs": [
    {
     "data": {
      "text/plain": [
       "array([[  0., 100.,  78., 342.],\n",
       "       [  1.,  11.,  62., 191.],\n",
       "       [  2.,   8.,  85., 252.],\n",
       "       [  3.,  71.,  24., 307.],\n",
       "       [  4., 104.,  17., 229.],\n",
       "       [  5.,  18., 104., 246.],\n",
       "       [  6.,   8.,  76., 226.],\n",
       "       [  7.,  86.,  74., 288.],\n",
       "       [  8.,  12.,  60., 216.],\n",
       "       [  9.,  25.,  90., 304.],\n",
       "       [ 10.,  56.,   6., 272.],\n",
       "       [ 11.,  88.,  69., 302.],\n",
       "       [ 12., 147.,  65., 312.],\n",
       "       [ 13., 121., 146., 370.],\n",
       "       [ 15.,  99., 110., 362.]])"
      ]
     },
     "execution_count": 35,
     "metadata": {},
     "output_type": "execute_result"
    }
   ],
   "source": [
    "a"
   ]
  },
  {
   "cell_type": "markdown",
   "id": "0f9f2f7c",
   "metadata": {},
   "source": [
    "# M.O.M"
   ]
  },
  {
   "cell_type": "code",
   "execution_count": 36,
   "id": "02ab5385",
   "metadata": {},
   "outputs": [],
   "source": [
    "sachin_runs=a[:,1]"
   ]
  },
  {
   "cell_type": "code",
   "execution_count": 37,
   "id": "cb16da76",
   "metadata": {},
   "outputs": [
    {
     "data": {
      "text/plain": [
       "array([100.,  11.,   8.,  71., 104.,  18.,   8.,  86.,  12.,  25.,  56.,\n",
       "        88., 147., 121.,  99.])"
      ]
     },
     "execution_count": 37,
     "metadata": {},
     "output_type": "execute_result"
    }
   ],
   "source": [
    "sachin_runs"
   ]
  },
  {
   "cell_type": "code",
   "execution_count": 38,
   "id": "70d36e81",
   "metadata": {},
   "outputs": [
    {
     "data": {
      "text/plain": [
       "63.6"
      ]
     },
     "execution_count": 38,
     "metadata": {},
     "output_type": "execute_result"
    }
   ],
   "source": [
    "np.mean(sachin_runs)"
   ]
  },
  {
   "cell_type": "code",
   "execution_count": 39,
   "id": "41a94393",
   "metadata": {},
   "outputs": [
    {
     "data": {
      "text/plain": [
       "71.06666666666666"
      ]
     },
     "execution_count": 39,
     "metadata": {},
     "output_type": "execute_result"
    }
   ],
   "source": [
    "dravid_runs=a[:,2]\n",
    "np.mean(dravid_runs)"
   ]
  },
  {
   "cell_type": "code",
   "execution_count": 41,
   "id": "2555b0fa",
   "metadata": {},
   "outputs": [
    {
     "data": {
      "text/plain": [
       "281.26666666666665"
      ]
     },
     "execution_count": 41,
     "metadata": {},
     "output_type": "execute_result"
    }
   ],
   "source": [
    "india_runs=a[:,3]\n",
    "np.mean(india_runs)"
   ]
  },
  {
   "cell_type": "code",
   "execution_count": 42,
   "id": "c8635976",
   "metadata": {},
   "outputs": [
    {
     "data": {
      "text/plain": [
       "array([[1.        , 0.70460106],\n",
       "       [0.70460106, 1.        ]])"
      ]
     },
     "execution_count": 42,
     "metadata": {},
     "output_type": "execute_result"
    }
   ],
   "source": [
    "np.corrcoef(sachin_runs,india_runs)"
   ]
  },
  {
   "cell_type": "code",
   "execution_count": 43,
   "id": "b01b7c88",
   "metadata": {},
   "outputs": [
    {
     "data": {
      "text/plain": [
       "array([[1.        , 0.44853003],\n",
       "       [0.44853003, 1.        ]])"
      ]
     },
     "execution_count": 43,
     "metadata": {},
     "output_type": "execute_result"
    }
   ],
   "source": [
    "np.corrcoef(dravid_runs,india_runs)"
   ]
  },
  {
   "cell_type": "markdown",
   "id": "5f8cfb40",
   "metadata": {},
   "source": [
    "# Opening"
   ]
  },
  {
   "cell_type": "code",
   "execution_count": 45,
   "id": "19a05222",
   "metadata": {},
   "outputs": [
    {
     "data": {
      "text/plain": [
       "array([[1.        , 0.04899219],\n",
       "       [0.04899219, 1.        ]])"
      ]
     },
     "execution_count": 45,
     "metadata": {},
     "output_type": "execute_result"
    }
   ],
   "source": [
    "np.corrcoef(sachin_runs,dravid_runs)"
   ]
  },
  {
   "cell_type": "markdown",
   "id": "4ea4c827",
   "metadata": {},
   "source": [
    "# Data Visualization"
   ]
  },
  {
   "cell_type": "code",
   "execution_count": 46,
   "id": "ae411b94",
   "metadata": {},
   "outputs": [],
   "source": [
    "import matplotlib"
   ]
  },
  {
   "cell_type": "code",
   "execution_count": 49,
   "id": "acbce864",
   "metadata": {},
   "outputs": [
    {
     "data": {
      "image/png": "[encoded data removed]",
      "text/plain": [
       "<Figure size 432x288 with 1 Axes>"
      ]
     },
     "metadata": {
      "needs_background": "light"
     },
     "output_type": "display_data"
    }
   ],
   "source": [
    "import matplotlib.pyplot as plt\n",
    "x=[1,2,3]\n",
    "y=[3,4,5]\n",
    "plt.plot (x,y)\n",
    "plt.show()"
   ]
  },
  {
   "cell_type": "code",
   "execution_count": 52,
   "id": "5b3ff8b3",
   "metadata": {},
   "outputs": [
    {
     "data": {
      "image/png": "[encoded data removed]",
      "text/plain": [
       "<Figure size 432x288 with 1 Axes>"
      ]
     },
     "metadata": {
      "needs_background": "light"
     },
     "output_type": "display_data"
    }
   ],
   "source": [
    "plt.plot(y)\n",
    "plt.show()"
   ]
  },
  {
   "cell_type": "code",
   "execution_count": 75,
   "id": "a68871bb",
   "metadata": {},
   "outputs": [
    {
     "data": {
      "image/png": "[encoded data removed]",
      "text/plain": [
       "<Figure size 432x288 with 1 Axes>"
      ]
     },
     "metadata": {
      "needs_background": "light"
     },
     "output_type": "display_data"
    }
   ],
   "source": [
    "import numpy as np\n",
    "x=[1,3,7,9]\n",
    "y=[24,15,78,23]\n",
    "plt.plot (x,y,marker=\"o\",color=\"c\",linestyle=\":\")\n",
    "plt.show()"
   ]
  },
  {
   "cell_type": "code",
   "execution_count": 56,
   "id": "097fc116",
   "metadata": {},
   "outputs": [
    {
     "data": {
      "text/plain": [
       "<function matplotlib.pyplot.show(close=None, block=None)>"
      ]
     },
     "execution_count": 56,
     "metadata": {},
     "output_type": "execute_result"
    },
    {
     "data": {
      "image/png": "[encoded data removed]",
      "text/plain": [
       "<Figure size 432x288 with 1 Axes>"
      ]
     },
     "metadata": {
      "needs_background": "light"
     },
     "output_type": "display_data"
    }
   ],
   "source": [
    "plt.plot(y)\n",
    "plt.show"
   ]
  },
  {
   "cell_type": "code",
   "execution_count": 57,
   "id": "61edd220",
   "metadata": {},
   "outputs": [
    {
     "data": {
      "text/plain": [
       "<function matplotlib.pyplot.show(close=None, block=None)>"
      ]
     },
     "execution_count": 57,
     "metadata": {},
     "output_type": "execute_result"
    },
    {
     "data": {
      "image/png": "[encoded data removed]",
      "text/plain": [
       "<Figure size 432x288 with 1 Axes>"
      ]
     },
     "metadata": {
      "needs_background": "light"
     },
     "output_type": "display_data"
    }
   ],
   "source": [
    "plt.plot(x)\n",
    "plt.show"
   ]
  },
  {
   "cell_type": "code",
   "execution_count": 86,
   "id": "84346e09",
   "metadata": {},
   "outputs": [],
   "source": [
    "### 10 matches\n",
    "india_runs=[511,292,333,444,555,366,177,888,999,547]\n",
    "pak_runs=[123,200,845,956,567,678,789,158,124,325]\n",
    "india_runs=np.array(india_runs)\n",
    "pak_runs=np.array(pak_runs)"
   ]
  },
  {
   "cell_type": "code",
   "execution_count": 87,
   "id": "40c34852",
   "metadata": {},
   "outputs": [
    {
     "data": {
      "text/plain": [
       "10"
      ]
     },
     "execution_count": 87,
     "metadata": {},
     "output_type": "execute_result"
    }
   ],
   "source": [
    "india_runs.size"
   ]
  },
  {
   "cell_type": "code",
   "execution_count": 88,
   "id": "45b03135",
   "metadata": {},
   "outputs": [
    {
     "data": {
      "text/plain": [
       "10"
      ]
     },
     "execution_count": 88,
     "metadata": {},
     "output_type": "execute_result"
    }
   ],
   "source": [
    "pak_runs.size"
   ]
  },
  {
   "cell_type": "code",
   "execution_count": 89,
   "id": "fd4ffab9",
   "metadata": {},
   "outputs": [
    {
     "data": {
      "text/plain": [
       "array([0, 1, 2, 3, 4, 5, 6, 7, 8, 9])"
      ]
     },
     "execution_count": 89,
     "metadata": {},
     "output_type": "execute_result"
    }
   ],
   "source": [
    "matches=np.arange(10)\n",
    "matches"
   ]
  },
  {
   "cell_type": "code",
   "execution_count": 129,
   "id": "d4957aeb",
   "metadata": {},
   "outputs": [
    {
     "data": {
      "image/png": "[encoded data removed]",
      "text/plain": [
       "<Figure size 432x288 with 1 Axes>"
      ]
     },
     "metadata": {
      "needs_background": "light"
     },
     "output_type": "display_data"
    }
   ],
   "source": [
    "plt.plot(matches,india_runs)\n",
    "plt.plot(matches,pak_runs)\n",
    "plt.legend([\"India\",\"Pak\"],loc=\"lower right\")\n",
    "plt.show()"
   ]
  },
  {
   "cell_type": "markdown",
   "id": "cfc5fb59",
   "metadata": {},
   "source": [
    "# Bar Plot"
   ]
  },
  {
   "cell_type": "code",
   "execution_count": 92,
   "id": "45d29c7e",
   "metadata": {},
   "outputs": [
    {
     "data": {
      "image/png": "[encoded data removed]",
      "text/plain": [
       "<Figure size 432x288 with 1 Axes>"
      ]
     },
     "metadata": {
      "needs_background": "light"
     },
     "output_type": "display_data"
    }
   ],
   "source": [
    "### Netflix\n",
    "generics=[\"Horror\",\"Thriller\",\"SciFi\",\"Drama\",\"Comedy\",\"Suspense\"]\n",
    "movies=[586,254,554,358,625,123]\n",
    "plt.bar(generics,movies,color=\"red\")\n",
    "plt.show()"
   ]
  },
  {
   "cell_type": "markdown",
   "id": "c18614ac",
   "metadata": {},
   "source": [
    "# Scatter plot"
   ]
  },
  {
   "cell_type": "code",
   "execution_count": 110,
   "id": "9713a6c9",
   "metadata": {},
   "outputs": [
    {
     "data": {
      "image/png": "[encoded data removed]",
      "text/plain": [
       "<Figure size 432x288 with 1 Axes>"
      ]
     },
     "metadata": {
      "needs_background": "light"
     },
     "output_type": "display_data"
    }
   ],
   "source": [
    "x=[6,3,7,9]\n",
    "y=[54,28,78,95]\n",
    "plt.scatter(x,y)\n",
    "plt.show()"
   ]
  },
  {
   "cell_type": "code",
   "execution_count": 111,
   "id": "c2bf8364",
   "metadata": {},
   "outputs": [
    {
     "data": {
      "image/png": "[encoded data removed]",
      "text/plain": [
       "<Figure size 432x288 with 1 Axes>"
      ]
     },
     "metadata": {
      "needs_background": "light"
     },
     "output_type": "display_data"
    }
   ],
   "source": [
    "plt.plot(x,y,color=\"green\")\n",
    "plt.xlabel(\"Prep Time\")\n",
    "plt.ylabel(\"Exam Time\")\n",
    "plt.title(\"Student Condition\")\n",
    "plt.show()"
   ]
  },
  {
   "cell_type": "markdown",
   "id": "bb52bddd",
   "metadata": {},
   "source": [
    "# Histogram"
   ]
  },
  {
   "cell_type": "code",
   "execution_count": 140,
   "id": "99186eea",
   "metadata": {},
   "outputs": [
    {
     "data": {
      "image/png": "[encoded data removed]",
      "text/plain": [
       "<Figure size 432x288 with 1 Axes>"
      ]
     },
     "metadata": {
      "needs_background": "light"
     },
     "output_type": "display_data"
    },
    {
     "data": {
      "text/plain": [
       "array([5, 3, 3, ..., 5, 4, 3])"
      ]
     },
     "execution_count": 140,
     "metadata": {},
     "output_type": "execute_result"
    }
   ],
   "source": [
    "a=random.randint(1,7,size=(2000000,))\n",
    "plt.hist(a)\n",
    "plt.show()\n",
    "a"
   ]
  },
  {
   "cell_type": "code",
   "execution_count": 143,
   "id": "8096c85d",
   "metadata": {},
   "outputs": [
    {
     "data": {
      "text/plain": [
       "1.0"
      ]
     },
     "execution_count": 143,
     "metadata": {},
     "output_type": "execute_result"
    }
   ],
   "source": [
    "theta1=90\n",
    "a=np.deg2rad(theta1)\n",
    "np.sin(a)"
   ]
  },
  {
   "cell_type": "code",
   "execution_count": 149,
   "id": "2c282113",
   "metadata": {},
   "outputs": [
    {
     "data": {
      "image/png": "[encoded data removed]",
      "text/plain": [
       "<Figure size 432x288 with 1 Axes>"
      ]
     },
     "metadata": {
      "needs_background": "light"
     },
     "output_type": "display_data"
    }
   ],
   "source": [
    "theta1=np.arange(360)\n",
    "theta1_r=np.deg2rad(theta1)\n",
    "sintheta=np.sin(theta1_r)\n",
    "plt.plot(theta1,sintheta)\n",
    "plt.xlabel(\"x-axis\")\n",
    "plt.ylabel(\"y-axis\")\n",
    "plt.title(\"Plotting sine\")\n",
    "plt.show()"
   ]
  },
  {
   "cell_type": "code",
   "execution_count": 153,
   "id": "3768ea01",
   "metadata": {},
   "outputs": [
    {
     "data": {
      "image/png": "[encoded data removed]",
      "text/plain": [
       "<Figure size 432x288 with 1 Axes>"
      ]
     },
     "metadata": {
      "needs_background": "light"
     },
     "output_type": "display_data"
    }
   ],
   "source": [
    "theta1=np.arange(360)\n",
    "theta1_r=np.deg2rad(theta1)\n",
    "costheta=np.cos(theta1_r)\n",
    "plt.plot(theta1,costheta)\n",
    "plt.xlabel(\"x-axis\")\n",
    "plt.ylabel(\"y-axis\")\n",
    "plt.title(\"Plotting cosine\")\n",
    "plt.show()"
   ]
  },
  {
   "cell_type": "code",
   "execution_count": 170,
   "id": "c4142a93",
   "metadata": {},
   "outputs": [
    {
     "data": {
      "image/png": "[encoded data removed]",
      "text/plain": [
       "<Figure size 432x288 with 1 Axes>"
      ]
     },
     "metadata": {
      "needs_background": "light"
     },
     "output_type": "display_data"
    }
   ],
   "source": [
    "theta1=np.arange(360)\n",
    "theta1_r=np.deg2rad(theta1)\n",
    "\n",
    "sintheta=np.sin(theta1_r)\n",
    "costheta=np.cos(theta1_r)\n",
    "\n",
    "\n",
    "plt.plot(theta1,sintheta)\n",
    "plt.plot(theta1,costheta)\n",
    "\n",
    "plt.xlabel(\"x-axis\")\n",
    "plt.ylabel(\"y-axis\")\n",
    "\n",
    "plt.title(\"Plotting sine & cosine\")\n",
    "plt.legend([\"sine\",\"cosine\"])\n",
    "\n",
    "plt.annotate(\"Maxima\",xy=(90,1))\n",
    "plt.savefig(\"myplot.pdf\")\n",
    "\n",
    "plt.show()"
   ]
  },
  {
   "cell_type": "code",
   "execution_count": null,
   "id": "78cc50e2",
   "metadata": {},
   "outputs": [],
   "source": []
  }
 ],
 "metadata": {
  "kernelspec": {
   "display_name": "Python 3 (ipykernel)",
   "language": "python",
   "name": "python3"
  },
  "language_info": {
   "codemirror_mode": {
    "name": "ipython",
    "version": 3
   },
   "file_extension": ".py",
   "mimetype": "text/x-python",
   "name": "python",
   "nbconvert_exporter": "python",
   "pygments_lexer": "ipython3",
   "version": "3.9.12"
  }
 },
 "nbformat": 4,
 "nbformat_minor": 5
}
